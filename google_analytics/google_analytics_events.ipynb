{
 "cells": [
  {
   "cell_type": "markdown",
   "metadata": {},
   "source": [
    "# Google Analytics Event Parsing Script\n",
    "\n",
    "## Disclaimer\n",
    "Modified from code developed by api.nickm@gmail.com (Nick Mihailovski) under the Apache License\n",
    "Licensed under the Apache License, Version 2.0 (the \"License\");\n",
    "you may not use this file except in compliance with the License.\n",
    "You may obtain a copy of the License at\n",
    "\n",
    "     http://www.apache.org/licenses/LICENSE-2.0\n",
    "\n",
    "Unless required by applicable law or agreed to in writing, software\n",
    "distributed under the License is distributed on an \"AS IS\" BASIS,\n",
    "WITHOUT WARRANTIES OR CONDITIONS OF ANY KIND, either express or implied.\n",
    "See the License for the specific language governing permissions and\n",
    "limitations under the License.#Will need to set variables here\n",
    "Begin by registering app on google api services\n",
    "\n",
    "## Introduction\n",
    "\n",
    "The following code pulls Google Analytics events from a given GA account. It iterates through the provided date ranges in blocks so as to minimize sampling. With this code we can pull large amounts of detailed GA data with relatively low effort.\n",
    "\n",
    "It has been modified from the original source to include more automation in date parsing, more robust error handling, and simplified value assignment\n",
    "\n",
    "## Getting Started\n",
    "\n",
    "To use the GA API, you most have a project registered with Google and a JSON file with your key information:\n",
    "\n",
    "> https://console.developers.google.com/flows/enableapi?apiid=analytics\n",
    "\n",
    "* Create New Project\n",
    "* Go to 'Credentials' on lefthand side\n",
    "* Select Oauth authentication in either blue text near center screen (Should be an option to skip configuration)\n",
    "* Name the app whatever you like\n",
    "* Select 'Other' for application type\n",
    "* Name the application type whatever you want as well\n",
    "* Download the client secret data using the icon on the far right after the credentials display\n",
    "* Replace provided 'client_secrets.json' with entirety of downloaded file\n",
    "\n",
    "If needed you may install google analytic python libraries via\n",
    "\n",
    "```\n",
    "pip install --upgrade google-api-python-client\n",
    "```\n",
    "\n",
    "To make it easier, you are able to explore query parameters here for testing accounting access and verifying results\n",
    "\n",
    "> https://ga-dev-tools.appspot.com/query-explorer/\n",
    "\n",
    "This comes in handy if you need to select other parameters than the one given in the script\n",
    "\n",
    "## Loading Libraries and House Keeping"
   ]
  },
  {
   "cell_type": "code",
   "execution_count": null,
   "metadata": {
    "collapsed": false
   },
   "outputs": [],
   "source": [
    "import argparse\n",
    "import sys\n",
    "import csv\n",
    "import string\n",
    "\n",
    "from apiclient.errors import HttpError\n",
    "from apiclient import sample_tools\n",
    "from oauth2client.client import AccessTokenRefreshError\n",
    "\n",
    "import time\n",
    "from datetime import datetime, timedelta, date\n",
    "\n",
    "class SampledDataError(Exception): pass"
   ]
  },
  {
   "cell_type": "markdown",
   "metadata": {
    "raw_mimetype": "text/markdown"
   },
   "source": [
    "## Variable Assignment\n",
    "\n",
    "Set Variables: confirm profile_ids, date_ranges, and file_path are set\n",
    "\n",
    "Also be sure the client_secret.json file is present in same directory as python script\n"
   ]
  },
  {
   "cell_type": "code",
   "execution_count": null,
   "metadata": {
    "collapsed": true
   },
   "outputs": [],
   "source": [
    "profile_ids = {'yourProfileNameHere':  'profileIDNumberAsStringHere'}\n",
    "\n",
    "'''Date Settings'''\n",
    "#This allows for date splitting in the future, produces string with yesterday's date\n",
    "endDate = date.today() - timedelta(days=1) #sets date to yesterday\n",
    "startDate = date(2016,1,1) #Year,Month,Day\n",
    "daysbetween = 10\n",
    "\n",
    "#Specify where the file should write, automatically generates name based on user id\n",
    "\n",
    "file_path = '../data/'\n",
    "\n",
    "__author__ = 'Daniel Smith'\n"
   ]
  },
  {
   "cell_type": "markdown",
   "metadata": {},
   "source": [
    "## Creating a Date Tuple to Iterate Over\n",
    "\n",
    "Using the current date and the date defined above, the follwoing script create a tuple of dates. Each tuple value contains a start and end date."
   ]
  },
  {
   "cell_type": "code",
   "execution_count": null,
   "metadata": {
    "collapsed": true
   },
   "outputs": [],
   "source": [
    "today = date.today()\n",
    "timestamp = (today.strftime(\"%Y-%m-%d\"))\n",
    "\n",
    "def make_date_tuple (startDate, endDate, daysbetween):\n",
    "    dateagg = startDate\n",
    "    dateTuple = []\n",
    "    #days = (endDate-startDate).days\n",
    "    while ((dateagg + timedelta(days=daysbetween)) < endDate):\n",
    "        d1 = dateagg\n",
    "        d2 = (dateagg + timedelta(days=daysbetween))\n",
    "        d1str = (d1.strftime(\"%Y-%m-%d\"))\n",
    "        d2str = (d2.strftime(\"%Y-%m-%d\"))\n",
    "        dateTuple.append((d1str,d2str))\n",
    "        dateagg = (d2 + timedelta(days=1))\n",
    "    dateTuple.append((dateagg.strftime(\"%Y-%m-%d\"),endDate.strftime(\"%Y-%m-%d\")))\n",
    "    return dateTuple\n",
    "\n",
    "date_ranges = make_date_tuple(startDate,endDate, daysbetween)"
   ]
  },
  {
   "cell_type": "markdown",
   "metadata": {},
   "source": [
    "## Connecting to GA\n",
    "\n",
    "Here is where we connect to the GA API given the profile populated above. The bulk of the code below is error handling this connection.\n"
   ]
  },
  {
   "cell_type": "code",
   "execution_count": null,
   "metadata": {
    "collapsed": true
   },
   "outputs": [],
   "source": [
    "def main(argv):\n",
    "  # Authenticate and construct service.\n",
    "  service, flags = sample_tools.init(\n",
    "      argv, 'analytics', 'v3', __doc__, __file__,\n",
    "      scope='https://www.googleapis.com/auth/analytics.readonly')\n",
    "\n",
    "  # Try to make a request to the API. Print the results or handle errors.\n",
    "  try:\n",
    "    profile_id = profile_ids[profile]\n",
    "    if not profile_id:\n",
    "      print 'Could not find a valid profile for this user.'\n",
    "    else:\n",
    "     for n in range(0, 10):\n",
    "      try:\n",
    "       for start_date, end_date in date_ranges:\n",
    "        limit = ga_query(service, profile_id, 0,\n",
    "                                 start_date, end_date).get('totalResults')\n",
    "        for pag_index in xrange(0, limit, 10000):\n",
    "          event_results = ga_query(service, profile_id, pag_index,\n",
    "                                     start_date, end_date)\n",
    "          if event_results.get('containsSampledData'):\n",
    "            \n",
    "            raise SampledDataError\n",
    "          print_results(event_results, pag_index, start_date, end_date)\n",
    "      except HttpError, error:\n",
    "       if error.resp.reason in ['userRateLimitExceeded', 'quotaExceeded',\n",
    "                               'internalServerError', 'backendError']:\n",
    "          print 'Hit an API error due to rate limits, sleeping and re-trying'\n",
    "          time.sleep((2 ** n) + random.random())\n",
    "       else:\n",
    "       \t  break\n",
    "\n",
    "  except TypeError, error:    \n",
    "    # Handle errors in constructing a query.\n",
    "    print ('There was an error in constructing your query : %s' % error)\n",
    "\n",
    "  except HttpError, error:\n",
    "    # Handle API errors.\n",
    "    print ('Arg, there was an API error : %s : %s' %\n",
    "           (error.resp.status, error._get_reason()))\n",
    "\n",
    "  except AccessTokenRefreshError:\n",
    "    # Handle Auth errors.\n",
    "    print ('The credentials have been revoked or expired, please re-run '\n",
    "           'the application to re-authorize')\n",
    "  \n",
    "  except SampledDataError:\n",
    "    # force an error if ever a query returns data that is sampled!\n",
    "    print ('Error: Query contains sampled data!')"
   ]
  },
  {
   "cell_type": "markdown",
   "metadata": {},
   "source": [
    "## GA Query\n",
    "\n",
    "Here's the script that defines what data we are going to pull now that we're connected to GA. Its pretty self explanatory, but if you need a reminder on the syntax, use the GA Query Tool linked above and strip the parameter arguements off the GA URL, they syntax is exactly the same"
   ]
  },
  {
   "cell_type": "code",
   "execution_count": 29,
   "metadata": {
    "collapsed": true
   },
   "outputs": [],
   "source": [
    "def ga_query(service, profile_id, pag_index, start_date, end_date):\n",
    "\n",
    "  return service.data().ga().get(\n",
    "      ids='ga:' + profile_id,\n",
    "      start_date=start_date,\n",
    "      end_date=end_date,\n",
    "      #unique events only counts one event per session (i.e. visit) better for evaluating WTB clicks\n",
    "      metrics='ga:users, ga:sessions', \n",
    "      dimensions='ga:year,ga:month,ga:region,ga:city',\n",
    "      #sort='-ga:totalEvents',\n",
    "      #filters='ga:campaign==%s,ga:campaign==%s' %(oldCampaign, newCampaign),\n",
    "      samplingLevel='HIGHER_PRECISION',\n",
    "      start_index=str(pag_index+1),\n",
    "      max_results=str(pag_index+10000)).execute()"
   ]
  },
  {
   "cell_type": "markdown",
   "metadata": {},
   "source": [
    "# Writing Data\n",
    "\n",
    "Our last function is boiler plate csv writitng, but it does include some console logging for progress monitoring"
   ]
  },
  {
   "cell_type": "code",
   "execution_count": null,
   "metadata": {
    "collapsed": false
   },
   "outputs": [],
   "source": [
    "def print_results(results, pag_index, start_date, end_date):\n",
    "\n",
    "  if pag_index == 0:\n",
    "    if (start_date, end_date) == date_ranges[0]:\n",
    "      print 'Profile Name: %s' % results.get('profileInfo').get('profileName')\n",
    "      columnHeaders = results.get('columnHeaders')\n",
    "      cleanHeaders = [str(h['name']) for h in columnHeaders]\n",
    "      writer.writerow(cleanHeaders)\n",
    "    print 'Now pulling data from %s to %s.' %(start_date, end_date)\n",
    "\n",
    "\n",
    "\n",
    "  # Print data table.\n",
    "  if results.get('rows', []):\n",
    "    for row in results.get('rows'):\n",
    "      for i in range(len(row)):\n",
    "        old, new = row[i], str()\n",
    "        for s in old:\n",
    "          new += s if s in string.printable else ''\n",
    "        row[i] = new\n",
    "      writer.writerow(row)\n",
    "\n",
    "  else:\n",
    "    print 'No Rows Found'\n",
    "\n",
    "  limit = results.get('totalResults')\n",
    "  print pag_index, 'of about', int(round(limit, -4)), 'rows.'\n",
    "  return None"
   ]
  },
  {
   "cell_type": "code",
   "execution_count": null,
   "metadata": {
    "collapsed": false
   },
   "outputs": [],
   "source": [
    "for profile in sorted(profile_ids):\n",
    "  path = file_path #replace with path to your folder where csv file with data will be written\n",
    "  filename = 'google_analytics_weekly_event_data_%s.csv' #replace with your filename. Note %s is a placeholder variable and the profile name you specified on row 162 will be written here\n",
    "  with open(path + filename %(profile.lower()), 'wt') as f:\n",
    "    writer = csv.writer(f, lineterminator='\\n')\n",
    "    if __name__ == '__main__': main(sys.argv)\n",
    "  print \"Profile done. Next profile...\"\n",
    "\n",
    "print \"All profiles done.\""
   ]
  },
  {
   "cell_type": "markdown",
   "metadata": {},
   "source": [
    "## Closing Thoughts\n",
    "\n",
    "I probably should have mentioned this script needs to be run in the terminal / command line to work. You can't run it from Jupyter :)"
   ]
  }
 ],
 "metadata": {
  "celltoolbar": "Raw Cell Format",
  "kernelspec": {
   "display_name": "Python 2",
   "language": "python",
   "name": "python2"
  },
  "language_info": {
   "codemirror_mode": {
    "name": "ipython",
    "version": 2
   },
   "file_extension": ".py",
   "mimetype": "text/x-python",
   "name": "python",
   "nbconvert_exporter": "python",
   "pygments_lexer": "ipython2",
   "version": "2.7.13"
  }
 },
 "nbformat": 4,
 "nbformat_minor": 2
}
